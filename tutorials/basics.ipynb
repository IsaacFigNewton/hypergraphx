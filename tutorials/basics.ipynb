{
  "cells": [
    {
      "cell_type": "markdown",
      "metadata": {
        "id": "TIZ-QQCanpAF"
      },
      "source": [
        "# Install Dependencies"
      ]
    },
    {
      "cell_type": "code",
      "execution_count": 1,
      "metadata": {
        "colab": {
          "base_uri": "https://localhost:8080/"
        },
        "id": "7BYry3nqvLek",
        "outputId": "9eaa0454-3d7e-46fc-d791-21c020522824"
      },
      "outputs": [],
      "source": [
        "# !pip install hypergraphx"
      ]
    },
    {
      "cell_type": "markdown",
      "metadata": {
        "id": "TlwuFnbTntXR"
      },
      "source": [
        "# Import/Config"
      ]
    },
    {
      "cell_type": "code",
      "execution_count": 2,
      "metadata": {
        "id": "Y_eNEC33vD1c"
      },
      "outputs": [],
      "source": [
        "import sys\n",
        "import json\n",
        "\n",
        "from hypergraphx.generation.scale_free import scale_free_hypergraph\n",
        "from hypergraphx.linalg import *\n",
        "from hypergraphx.representations.projections import bipartite_projection, clique_projection\n",
        "from hypergraphx.generation.random import *\n",
        "from hypergraphx.readwrite.save import save_hypergraph\n",
        "from hypergraphx.readwrite.load import load_hypergraph\n",
        "from hypergraphx.viz.draw_hypergraph import draw_hypergraph"
      ]
    },
    {
      "cell_type": "markdown",
      "metadata": {
        "id": "JtIUm1bXojr-"
      },
      "source": [
        "# Undirected Hypergraph"
      ]
    },
    {
      "cell_type": "markdown",
      "metadata": {
        "id": "yCGAmGJ3pGpy"
      },
      "source": [
        "## Undirected Hypergraph instantiation"
      ]
    },
    {
      "cell_type": "code",
      "execution_count": 3,
      "metadata": {
        "colab": {
          "base_uri": "https://localhost:8080/"
        },
        "id": "HLHRDV93vD1f",
        "outputId": "f0190c80-6b6b-4ca4-843a-bfe5b98d1695"
      },
      "outputs": [
        {
          "name": "stdout",
          "output_type": "stream",
          "text": [
            "Hypergraph with 8 nodes and 5 edges.\n",
            "Distribution of hyperedge sizes: {2: 3, 4: 1, 3: 1}\n"
          ]
        }
      ],
      "source": [
        "H = Hypergraph(\n",
        "    [(1, 3), (1, 4), (1, 2), (5, 6, 7, 8), (1, 2, 3)],\n",
        "    weighted=True,\n",
        "    weights=[1, 2, 3, 4, 5]\n",
        ")\n",
        "print(H)"
      ]
    },
    {
      "cell_type": "markdown",
      "metadata": {
        "id": "6145GU4npQw6"
      },
      "source": [
        "## Accessing hypergraph metadata"
      ]
    },
    {
      "cell_type": "markdown",
      "metadata": {
        "id": "mfZf6yIipmgM"
      },
      "source": [
        "### Accessing edge data"
      ]
    },
    {
      "cell_type": "code",
      "execution_count": 4,
      "metadata": {
        "id": "ny9Fy2XRtEnM"
      },
      "outputs": [],
      "source": [
        "def print_edge_metadata(g):\n",
        "  clean_dict = {\n",
        "      str(k): v\n",
        "      for k, v in g.get_edges(metadata=True).items()\n",
        "  }\n",
        "  print(json.dumps(clean_dict, indent=4))"
      ]
    },
    {
      "cell_type": "code",
      "execution_count": 5,
      "metadata": {
        "colab": {
          "base_uri": "https://localhost:8080/"
        },
        "id": "FpKp3Sj7vD1f",
        "outputId": "32848be9-c9cf-45ff-b69d-c281537f3b00"
      },
      "outputs": [
        {
          "name": "stdout",
          "output_type": "stream",
          "text": [
            "{\n",
            "    \"(1, 3)\": {},\n",
            "    \"(1, 4)\": {},\n",
            "    \"(1, 2)\": {},\n",
            "    \"(5, 6, 7, 8)\": {},\n",
            "    \"(1, 2, 3)\": {}\n",
            "}\n"
          ]
        }
      ],
      "source": [
        "print_edge_metadata(H)"
      ]
    },
    {
      "cell_type": "code",
      "execution_count": 6,
      "metadata": {
        "colab": {
          "base_uri": "https://localhost:8080/"
        },
        "id": "EBfOkS01vD1f",
        "outputId": "856f297d-0257-4b97-da70-e48e7edb9f53"
      },
      "outputs": [
        {
          "name": "stdout",
          "output_type": "stream",
          "text": [
            "H edges:\n",
            "\t(1, 3) has index 0\n",
            "\t(1, 4) has index 1\n",
            "\t(1, 2) has index 2\n",
            "\t(5, 6, 7, 8) has index 3\n",
            "\t(1, 2, 3) has index 4\n"
          ]
        }
      ],
      "source": [
        "print(\"H edges:\")\n",
        "for edge, edge_idx in H:\n",
        "    print(f\"\\t{edge} has index {edge_idx}\")"
      ]
    },
    {
      "cell_type": "markdown",
      "metadata": {
        "id": "XbLbHgRWpueF"
      },
      "source": [
        "### Accessing edge weights"
      ]
    },
    {
      "cell_type": "code",
      "execution_count": 7,
      "metadata": {
        "colab": {
          "base_uri": "https://localhost:8080/"
        },
        "id": "FzqPcePKvD1g",
        "outputId": "6d661ac2-24b6-4e1a-ef5d-1c7f00eee8a4"
      },
      "outputs": [
        {
          "name": "stdout",
          "output_type": "stream",
          "text": [
            "H weights: [1, 2, 3, 4, 5]\n",
            "Weight of (1, 2, 3): 5\n",
            "Weight of (2, 3, 1): 5\n"
          ]
        }
      ],
      "source": [
        "print(f\"H weights: {H.get_weights()}\")\n",
        "print(f\"Weight of (1, 2, 3): {H.get_weight((1, 2, 3))}\")\n",
        "print(f\"Weight of (2, 3, 1): {H.get_weight((2, 3, 1))}\")"
      ]
    },
    {
      "cell_type": "markdown",
      "metadata": {
        "id": "GMym8j1GqZBj"
      },
      "source": [
        "### Accessing node data"
      ]
    },
    {
      "cell_type": "code",
      "execution_count": 8,
      "metadata": {
        "colab": {
          "base_uri": "https://localhost:8080/"
        },
        "id": "9ihRTPRyqbAy",
        "outputId": "8be94cb8-347d-412c-f03c-a5ce12a9ce42"
      },
      "outputs": [
        {
          "name": "stdout",
          "output_type": "stream",
          "text": [
            "H nodes: {1: {}, 3: {}, 4: {}, 2: {}, 5: {}, 6: {}, 7: {}, 8: {}}\n"
          ]
        }
      ],
      "source": [
        "print(f\"H nodes: {H.get_nodes(metadata=True)}\")"
      ]
    },
    {
      "cell_type": "markdown",
      "metadata": {
        "id": "-LApMSkxpx8N"
      },
      "source": [
        "### Other graph metadata"
      ]
    },
    {
      "cell_type": "code",
      "execution_count": 9,
      "metadata": {
        "colab": {
          "base_uri": "https://localhost:8080/"
        },
        "id": "Zy_iA1kcvD1g",
        "outputId": "ceec1a0b-91b3-4354-c2cc-c9f7986bab3c"
      },
      "outputs": [
        {
          "name": "stdout",
          "output_type": "stream",
          "text": [
            "H is connected: False\n",
            "H is uniform: False\n"
          ]
        }
      ],
      "source": [
        "print(f\"H is connected: {H.is_connected()}\")\n",
        "print(f\"H is uniform: {H.is_uniform()}\")"
      ]
    },
    {
      "cell_type": "markdown",
      "metadata": {
        "id": "B4DGRDuNp3Cu"
      },
      "source": [
        "## Visualize the undirected hypergraph"
      ]
    },
    {
      "cell_type": "code",
      "execution_count": 10,
      "metadata": {
        "colab": {
          "base_uri": "https://localhost:8080/",
          "height": 0
        },
        "id": "anOhBNPgvD1h",
        "outputId": "969e5a06-abce-4315-d3c9-587274c2ff39"
      },
      "outputs": [
        {
          "data": {
            "image/png": "[encoded data removed]",
            "text/plain": [
              "<Figure size 1200x700 with 1 Axes>"
            ]
          },
          "metadata": {},
          "output_type": "display_data"
        }
      ],
      "source": [
        "draw_hypergraph(H)"
      ]
    },
    {
      "cell_type": "markdown",
      "metadata": {
        "id": "1kwAs_CJqsvk"
      },
      "source": [
        "## Try adding/removing edges"
      ]
    },
    {
      "cell_type": "markdown",
      "metadata": {
        "id": "EU4DoHWEq_6V"
      },
      "source": [
        "### Add edge"
      ]
    },
    {
      "cell_type": "code",
      "execution_count": 11,
      "metadata": {
        "colab": {
          "base_uri": "https://localhost:8080/",
          "height": 0
        },
        "id": "XPGKNKmcvD1h",
        "outputId": "af4b8c20-7b7e-4719-a956-5128cff9041d"
      },
      "outputs": [
        {
          "data": {
            "image/png": "[encoded data removed]",
            "text/plain": [
              "<Figure size 1200x700 with 1 Axes>"
            ]
          },
          "metadata": {},
          "output_type": "display_data"
        }
      ],
      "source": [
        "H.add_edge((1,5), weight=10)\n",
        "\n",
        "draw_hypergraph(H)"
      ]
    },
    {
      "cell_type": "markdown",
      "metadata": {
        "id": "7S-TCOTerWqg"
      },
      "source": [
        "### Remove edges"
      ]
    },
    {
      "cell_type": "code",
      "execution_count": 12,
      "metadata": {
        "colab": {
          "base_uri": "https://localhost:8080/"
        },
        "id": "M9rzPTnKvD1h",
        "outputId": "f52c6b4c-f22c-4134-8740-94df150428c2"
      },
      "outputs": [
        {
          "name": "stdout",
          "output_type": "stream",
          "text": [
            "H has edge (5, 6, 7, 8)?: True\n",
            "H has edge (5, 6, 7, 8) after remove_edge?: False\n"
          ]
        }
      ],
      "source": [
        "print(f\"H has edge (5, 6, 7, 8)?: {H.check_edge((5, 6, 7, 8))}\")\n",
        "\n",
        "H.remove_edge((5, 6, 7, 8))\n",
        "\n",
        "print(f\"H has edge (5, 6, 7, 8) after remove_edge?: {H.check_edge((5, 6, 7, 8))}\")"
      ]
    },
    {
      "cell_type": "code",
      "execution_count": 13,
      "metadata": {
        "colab": {
          "base_uri": "https://localhost:8080/"
        },
        "id": "Wm6y9CWBvD1h",
        "outputId": "7ba10bd8-49da-46ac-bf78-be68dd1a209d"
      },
      "outputs": [
        {
          "name": "stdout",
          "output_type": "stream",
          "text": [
            "H edges:\n",
            "\t(1, 3) has index 0\n",
            "\t(1, 4) has index 1\n",
            "\t(1, 2) has index 2\n",
            "\t(1, 2, 3) has index 4\n",
            "\t(1, 5) has index 5\n",
            "H is uniform: False\n",
            "H edges after removing (1,2,3), (1,3):\n",
            "\t(1, 4) has index 1\n",
            "\t(1, 2) has index 2\n",
            "\t(1, 5) has index 5\n",
            "H is uniform: True\n"
          ]
        }
      ],
      "source": [
        "print(\"H edges:\")\n",
        "for edge, edge_idx in H:\n",
        "    print(f\"\\t{edge} has index {edge_idx}\")\n",
        "print(f\"H is uniform: {H.is_uniform()}\")\n",
        "\n",
        "H.remove_edges([(1,2,3), (1,3)])\n",
        "\n",
        "print(\"H edges after removing (1,2,3), (1,3):\")\n",
        "for edge, edge_idx in H:\n",
        "    print(f\"\\t{edge} has index {edge_idx}\")\n",
        "print(f\"H is uniform: {H.is_uniform()}\")"
      ]
    },
    {
      "cell_type": "code",
      "execution_count": 14,
      "metadata": {
        "colab": {
          "base_uri": "https://localhost:8080/"
        },
        "id": "kcKu8FyYvD1i",
        "outputId": "597de49e-d1aa-4800-acbb-dac763410332"
      },
      "outputs": [
        {
          "name": "stdout",
          "output_type": "stream",
          "text": [
            "{\n",
            "    \"(1, 4)\": {},\n",
            "    \"(1, 2)\": {},\n",
            "    \"(1, 5)\": {}\n",
            "}\n"
          ]
        }
      ],
      "source": [
        "print_edge_metadata(H)"
      ]
    },
    {
      "cell_type": "code",
      "execution_count": 15,
      "metadata": {
        "colab": {
          "base_uri": "https://localhost:8080/",
          "height": 598
        },
        "id": "9NCqb30Xsiz4",
        "outputId": "86350f15-128c-4d31-815f-d4d644ae5a68"
      },
      "outputs": [
        {
          "data": {
            "image/png": "[encoded data removed]",
            "text/plain": [
              "<Figure size 1200x700 with 1 Axes>"
            ]
          },
          "metadata": {},
          "output_type": "display_data"
        }
      ],
      "source": [
        "draw_hypergraph(H)"
      ]
    },
    {
      "cell_type": "markdown",
      "metadata": {
        "id": "I-nf7QCWq0FV"
      },
      "source": [
        "## Try adding/removing nodes"
      ]
    },
    {
      "cell_type": "code",
      "execution_count": 16,
      "metadata": {
        "id": "HJ35vv8buZ_8"
      },
      "outputs": [],
      "source": [
        "def print_node_metadata(g):\n",
        "  print(json.dumps(H.get_nodes(metadata=True), indent=4))"
      ]
    },
    {
      "cell_type": "code",
      "execution_count": 17,
      "metadata": {
        "colab": {
          "base_uri": "https://localhost:8080/"
        },
        "id": "jZxN78CIq23c",
        "outputId": "bce55284-b750-45f7-d390-75f23c1031dd"
      },
      "outputs": [
        {
          "name": "stdout",
          "output_type": "stream",
          "text": [
            "{\n",
            "    \"1\": {},\n",
            "    \"3\": {},\n",
            "    \"4\": {},\n",
            "    \"2\": {},\n",
            "    \"5\": {},\n",
            "    \"6\": {},\n",
            "    \"7\": {},\n",
            "    \"8\": {}\n",
            "}\n",
            "H nodes: None\n",
            "{\n",
            "    \"3\": {},\n",
            "    \"4\": {},\n",
            "    \"2\": {},\n",
            "    \"5\": {},\n",
            "    \"6\": {},\n",
            "    \"7\": {},\n",
            "    \"8\": {}\n",
            "}\n",
            "H nodes after removing node 1: None\n",
            "{\n",
            "    \"3\": {},\n",
            "    \"4\": {},\n",
            "    \"2\": {},\n",
            "    \"5\": {},\n",
            "    \"6\": {},\n",
            "    \"7\": {},\n",
            "    \"8\": {},\n",
            "    \"1\": {}\n",
            "}\n",
            "H nodes after adding node 1 back in: None\n"
          ]
        }
      ],
      "source": [
        "print(f\"H nodes: {print_node_metadata(H)}\")\n",
        "\n",
        "H.remove_node(1)\n",
        "\n",
        "print(f\"H nodes after removing node 1: {print_node_metadata(H)}\")\n",
        "\n",
        "H.add_node(1)\n",
        "\n",
        "print(f\"H nodes after adding node 1 back in: {print_node_metadata(H)}\")"
      ]
    },
    {
      "cell_type": "code",
      "execution_count": 18,
      "metadata": {
        "colab": {
          "base_uri": "https://localhost:8080/",
          "height": 598
        },
        "id": "yREGyg1zsnBP",
        "outputId": "07593774-6ba9-4d6e-dffd-3e6d155878d2"
      },
      "outputs": [
        {
          "data": {
            "image/png": "[encoded data removed]",
            "text/plain": [
              "<Figure size 1200x700 with 1 Axes>"
            ]
          },
          "metadata": {},
          "output_type": "display_data"
        }
      ],
      "source": [
        "draw_hypergraph(H)"
      ]
    },
    {
      "cell_type": "markdown",
      "metadata": {
        "id": "OKPwTDS4spK5"
      },
      "source": [
        "## Try modifying node metadata"
      ]
    },
    {
      "cell_type": "code",
      "execution_count": 19,
      "metadata": {
        "colab": {
          "base_uri": "https://localhost:8080/"
        },
        "id": "mUTFcDZtvD1i",
        "outputId": "2a1ae6ff-c162-4524-d232-c125b39f2267"
      },
      "outputs": [
        {
          "name": "stdout",
          "output_type": "stream",
          "text": [
            "{\n",
            "    \"3\": {},\n",
            "    \"4\": {},\n",
            "    \"2\": {},\n",
            "    \"5\": {},\n",
            "    \"6\": {},\n",
            "    \"7\": {},\n",
            "    \"8\": {},\n",
            "    \"1\": {\n",
            "        \"role\": \"student\"\n",
            "    }\n",
            "}\n"
          ]
        }
      ],
      "source": [
        "H.add_attr_to_node_metadata(1, 'role', 'student')\n",
        "print_node_metadata(H)"
      ]
    },
    {
      "cell_type": "code",
      "execution_count": null,
      "metadata": {
        "id": "RDB_a9HEx8w-"
      },
      "outputs": [],
      "source": []
    }
  ],
  "metadata": {
    "colab": {
      "provenance": []
    },
    "kernelspec": {
      "display_name": ".venv (3.11.5)",
      "language": "python",
      "name": "python3"
    },
    "language_info": {
      "codemirror_mode": {
        "name": "ipython",
        "version": 3
      },
      "file_extension": ".py",
      "mimetype": "text/x-python",
      "name": "python",
      "nbconvert_exporter": "python",
      "pygments_lexer": "ipython3",
      "version": "3.11.5"
    },
    "orig_nbformat": 4
  },
  "nbformat": 4,
  "nbformat_minor": 0
}
